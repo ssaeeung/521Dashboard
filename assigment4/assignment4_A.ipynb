{
 "cells": [
  {
   "cell_type": "markdown",
   "id": "6e88ca61-613f-4da8-90ab-a212e0b33f0d",
   "metadata": {},
   "source": [
    "# Assignment4 (A) -- Data Exploration"
   ]
  },
  {
   "cell_type": "code",
   "execution_count": 6,
   "id": "5cf05bf7-6972-4f9e-8a6d-f42759e3fe4c",
   "metadata": {},
   "outputs": [],
   "source": [
    "import warnings\n",
    "warnings.filterwarnings('ignore')"
   ]
  },
  {
   "cell_type": "code",
   "execution_count": 9,
   "id": "1a67b8bd-7523-4b5a-84a9-4cd651263a5f",
   "metadata": {},
   "outputs": [
    {
     "data": {
      "text/html": [
       "<div>\n",
       "<style scoped>\n",
       "    .dataframe tbody tr th:only-of-type {\n",
       "        vertical-align: middle;\n",
       "    }\n",
       "\n",
       "    .dataframe tbody tr th {\n",
       "        vertical-align: top;\n",
       "    }\n",
       "\n",
       "    .dataframe thead th {\n",
       "        text-align: right;\n",
       "    }\n",
       "</style>\n",
       "<table border=\"1\" class=\"dataframe\">\n",
       "  <thead>\n",
       "    <tr style=\"text-align: right;\">\n",
       "      <th></th>\n",
       "      <th>Air Power</th>\n",
       "      <th>Cadence</th>\n",
       "      <th>Form Power</th>\n",
       "      <th>Ground Time</th>\n",
       "      <th>Leg Spring Stiffness</th>\n",
       "      <th>Power</th>\n",
       "      <th>Vertical Oscillation</th>\n",
       "      <th>altitude</th>\n",
       "      <th>cadence</th>\n",
       "      <th>datafile</th>\n",
       "      <th>...</th>\n",
       "      <th>enhanced_speed</th>\n",
       "      <th>fractional_cadence</th>\n",
       "      <th>heart_rate</th>\n",
       "      <th>position_lat</th>\n",
       "      <th>position_long</th>\n",
       "      <th>speed</th>\n",
       "      <th>timestamp</th>\n",
       "      <th>unknown_87</th>\n",
       "      <th>unknown_88</th>\n",
       "      <th>unknown_90</th>\n",
       "    </tr>\n",
       "  </thead>\n",
       "  <tbody>\n",
       "    <tr>\n",
       "      <th>0</th>\n",
       "      <td>NaN</td>\n",
       "      <td>NaN</td>\n",
       "      <td>NaN</td>\n",
       "      <td>NaN</td>\n",
       "      <td>NaN</td>\n",
       "      <td>NaN</td>\n",
       "      <td>NaN</td>\n",
       "      <td>NaN</td>\n",
       "      <td>0.0</td>\n",
       "      <td>activities/2675855419.fit.gz</td>\n",
       "      <td>...</td>\n",
       "      <td>0.000</td>\n",
       "      <td>0.0</td>\n",
       "      <td>68.0</td>\n",
       "      <td>NaN</td>\n",
       "      <td>NaN</td>\n",
       "      <td>0.0</td>\n",
       "      <td>2019-07-08 21:04:03</td>\n",
       "      <td>0.0</td>\n",
       "      <td>300.0</td>\n",
       "      <td>NaN</td>\n",
       "    </tr>\n",
       "    <tr>\n",
       "      <th>1</th>\n",
       "      <td>NaN</td>\n",
       "      <td>NaN</td>\n",
       "      <td>NaN</td>\n",
       "      <td>NaN</td>\n",
       "      <td>NaN</td>\n",
       "      <td>NaN</td>\n",
       "      <td>NaN</td>\n",
       "      <td>NaN</td>\n",
       "      <td>0.0</td>\n",
       "      <td>activities/2675855419.fit.gz</td>\n",
       "      <td>...</td>\n",
       "      <td>0.000</td>\n",
       "      <td>0.0</td>\n",
       "      <td>68.0</td>\n",
       "      <td>NaN</td>\n",
       "      <td>NaN</td>\n",
       "      <td>0.0</td>\n",
       "      <td>2019-07-08 21:04:04</td>\n",
       "      <td>0.0</td>\n",
       "      <td>300.0</td>\n",
       "      <td>NaN</td>\n",
       "    </tr>\n",
       "    <tr>\n",
       "      <th>2</th>\n",
       "      <td>NaN</td>\n",
       "      <td>NaN</td>\n",
       "      <td>NaN</td>\n",
       "      <td>NaN</td>\n",
       "      <td>NaN</td>\n",
       "      <td>NaN</td>\n",
       "      <td>NaN</td>\n",
       "      <td>NaN</td>\n",
       "      <td>54.0</td>\n",
       "      <td>activities/2675855419.fit.gz</td>\n",
       "      <td>...</td>\n",
       "      <td>1.316</td>\n",
       "      <td>0.0</td>\n",
       "      <td>71.0</td>\n",
       "      <td>NaN</td>\n",
       "      <td>NaN</td>\n",
       "      <td>1316.0</td>\n",
       "      <td>2019-07-08 21:04:07</td>\n",
       "      <td>0.0</td>\n",
       "      <td>300.0</td>\n",
       "      <td>NaN</td>\n",
       "    </tr>\n",
       "    <tr>\n",
       "      <th>3</th>\n",
       "      <td>NaN</td>\n",
       "      <td>NaN</td>\n",
       "      <td>NaN</td>\n",
       "      <td>NaN</td>\n",
       "      <td>NaN</td>\n",
       "      <td>NaN</td>\n",
       "      <td>NaN</td>\n",
       "      <td>3747.0</td>\n",
       "      <td>77.0</td>\n",
       "      <td>activities/2675855419.fit.gz</td>\n",
       "      <td>...</td>\n",
       "      <td>1.866</td>\n",
       "      <td>0.0</td>\n",
       "      <td>77.0</td>\n",
       "      <td>504432050.0</td>\n",
       "      <td>-999063637.0</td>\n",
       "      <td>1866.0</td>\n",
       "      <td>2019-07-08 21:04:14</td>\n",
       "      <td>0.0</td>\n",
       "      <td>100.0</td>\n",
       "      <td>NaN</td>\n",
       "    </tr>\n",
       "    <tr>\n",
       "      <th>4</th>\n",
       "      <td>NaN</td>\n",
       "      <td>NaN</td>\n",
       "      <td>NaN</td>\n",
       "      <td>NaN</td>\n",
       "      <td>NaN</td>\n",
       "      <td>NaN</td>\n",
       "      <td>NaN</td>\n",
       "      <td>3798.0</td>\n",
       "      <td>77.0</td>\n",
       "      <td>activities/2675855419.fit.gz</td>\n",
       "      <td>...</td>\n",
       "      <td>1.894</td>\n",
       "      <td>0.0</td>\n",
       "      <td>80.0</td>\n",
       "      <td>504432492.0</td>\n",
       "      <td>-999064534.0</td>\n",
       "      <td>1894.0</td>\n",
       "      <td>2019-07-08 21:04:15</td>\n",
       "      <td>0.0</td>\n",
       "      <td>100.0</td>\n",
       "      <td>NaN</td>\n",
       "    </tr>\n",
       "  </tbody>\n",
       "</table>\n",
       "<p>5 rows × 22 columns</p>\n",
       "</div>"
      ],
      "text/plain": [
       "   Air Power  Cadence  Form Power  Ground Time  Leg Spring Stiffness  Power  \\\n",
       "0        NaN      NaN         NaN          NaN                   NaN    NaN   \n",
       "1        NaN      NaN         NaN          NaN                   NaN    NaN   \n",
       "2        NaN      NaN         NaN          NaN                   NaN    NaN   \n",
       "3        NaN      NaN         NaN          NaN                   NaN    NaN   \n",
       "4        NaN      NaN         NaN          NaN                   NaN    NaN   \n",
       "\n",
       "   Vertical Oscillation  altitude  cadence                      datafile  ...  \\\n",
       "0                   NaN       NaN      0.0  activities/2675855419.fit.gz  ...   \n",
       "1                   NaN       NaN      0.0  activities/2675855419.fit.gz  ...   \n",
       "2                   NaN       NaN     54.0  activities/2675855419.fit.gz  ...   \n",
       "3                   NaN    3747.0     77.0  activities/2675855419.fit.gz  ...   \n",
       "4                   NaN    3798.0     77.0  activities/2675855419.fit.gz  ...   \n",
       "\n",
       "   enhanced_speed  fractional_cadence  heart_rate  position_lat  \\\n",
       "0           0.000                 0.0        68.0           NaN   \n",
       "1           0.000                 0.0        68.0           NaN   \n",
       "2           1.316                 0.0        71.0           NaN   \n",
       "3           1.866                 0.0        77.0   504432050.0   \n",
       "4           1.894                 0.0        80.0   504432492.0   \n",
       "\n",
       "   position_long   speed            timestamp  unknown_87 unknown_88  \\\n",
       "0            NaN     0.0  2019-07-08 21:04:03         0.0      300.0   \n",
       "1            NaN     0.0  2019-07-08 21:04:04         0.0      300.0   \n",
       "2            NaN  1316.0  2019-07-08 21:04:07         0.0      300.0   \n",
       "3   -999063637.0  1866.0  2019-07-08 21:04:14         0.0      100.0   \n",
       "4   -999064534.0  1894.0  2019-07-08 21:04:15         0.0      100.0   \n",
       "\n",
       "   unknown_90  \n",
       "0         NaN  \n",
       "1         NaN  \n",
       "2         NaN  \n",
       "3         NaN  \n",
       "4         NaN  \n",
       "\n",
       "[5 rows x 22 columns]"
      ]
     },
     "execution_count": 9,
     "metadata": {},
     "output_type": "execute_result"
    }
   ],
   "source": [
    "import pandas as pd\n",
    "import numpy as np\n",
    "\n",
    "# Read the dataset\n",
    "df = pd.read_csv(\"strava.csv\")\n",
    "df.head()"
   ]
  },
  {
   "cell_type": "code",
   "execution_count": 11,
   "id": "81948ae8-0c39-4c39-85f0-10f70dca1925",
   "metadata": {},
   "outputs": [
    {
     "data": {
      "text/plain": [
       "Index(['Air Power', 'Cadence', 'Form Power', 'Ground Time',\n",
       "       'Leg Spring Stiffness', 'Power', 'Vertical Oscillation', 'altitude',\n",
       "       'cadence', 'datafile', 'distance', 'enhanced_altitude',\n",
       "       'enhanced_speed', 'fractional_cadence', 'heart_rate', 'position_lat',\n",
       "       'position_long', 'speed', 'timestamp', 'unknown_87', 'unknown_88',\n",
       "       'unknown_90'],\n",
       "      dtype='object')"
      ]
     },
     "metadata": {},
     "output_type": "display_data"
    },
    {
     "data": {
      "text/plain": [
       "'Total record 40649 rows'"
      ]
     },
     "metadata": {},
     "output_type": "display_data"
    },
    {
     "data": {
      "text/plain": [
       "'Total Air Power available 17842 rows'"
      ]
     },
     "metadata": {},
     "output_type": "display_data"
    },
    {
     "data": {
      "text/plain": [
       "'Total Cadence available 17847 rows'"
      ]
     },
     "metadata": {},
     "output_type": "display_data"
    },
    {
     "data": {
      "text/plain": [
       "'Total Form Power available 17842 rows'"
      ]
     },
     "metadata": {},
     "output_type": "display_data"
    },
    {
     "data": {
      "text/plain": [
       "'Total Ground Time available 17847 rows'"
      ]
     },
     "metadata": {},
     "output_type": "display_data"
    },
    {
     "data": {
      "text/plain": [
       "'Total Leg Spring Stiffness available 17842 rows'"
      ]
     },
     "metadata": {},
     "output_type": "display_data"
    },
    {
     "data": {
      "text/plain": [
       "'Total Power available 17847 rows'"
      ]
     },
     "metadata": {},
     "output_type": "display_data"
    },
    {
     "data": {
      "text/plain": [
       "'Total Vertical Oscillation available 17847 rows'"
      ]
     },
     "metadata": {},
     "output_type": "display_data"
    },
    {
     "data": {
      "text/plain": [
       "'Total altitude available 14905 rows'"
      ]
     },
     "metadata": {},
     "output_type": "display_data"
    },
    {
     "data": {
      "text/plain": [
       "'Total cadence available 40627 rows'"
      ]
     },
     "metadata": {},
     "output_type": "display_data"
    },
    {
     "data": {
      "text/plain": [
       "'Total datafile available 40649 rows'"
      ]
     },
     "metadata": {},
     "output_type": "display_data"
    },
    {
     "data": {
      "text/plain": [
       "'Total distance available 40649 rows'"
      ]
     },
     "metadata": {},
     "output_type": "display_data"
    },
    {
     "data": {
      "text/plain": [
       "'Total enhanced_altitude available 40598 rows'"
      ]
     },
     "metadata": {},
     "output_type": "display_data"
    },
    {
     "data": {
      "text/plain": [
       "'Total enhanced_speed available 40639 rows'"
      ]
     },
     "metadata": {},
     "output_type": "display_data"
    },
    {
     "data": {
      "text/plain": [
       "'Total fractional_cadence available 40627 rows'"
      ]
     },
     "metadata": {},
     "output_type": "display_data"
    },
    {
     "data": {
      "text/plain": [
       "'Total heart_rate available 38355 rows'"
      ]
     },
     "metadata": {},
     "output_type": "display_data"
    },
    {
     "data": {
      "text/plain": [
       "'Total position_lat available 40457 rows'"
      ]
     },
     "metadata": {},
     "output_type": "display_data"
    },
    {
     "data": {
      "text/plain": [
       "'Total position_long available 40457 rows'"
      ]
     },
     "metadata": {},
     "output_type": "display_data"
    },
    {
     "data": {
      "text/plain": [
       "'Total speed available 14928 rows'"
      ]
     },
     "metadata": {},
     "output_type": "display_data"
    },
    {
     "data": {
      "text/plain": [
       "'Total timestamp available 40649 rows'"
      ]
     },
     "metadata": {},
     "output_type": "display_data"
    },
    {
     "data": {
      "text/plain": [
       "'Total unknown_87 available 40627 rows'"
      ]
     },
     "metadata": {},
     "output_type": "display_data"
    },
    {
     "data": {
      "text/plain": [
       "'Total unknown_88 available 38355 rows'"
      ]
     },
     "metadata": {},
     "output_type": "display_data"
    },
    {
     "data": {
      "text/plain": [
       "'Total unknown_90 available 18618 rows'"
      ]
     },
     "metadata": {},
     "output_type": "display_data"
    }
   ],
   "source": [
    "# Start the data exploration\n",
    "# Observe how many fields are missing on the data\n",
    "\n",
    "display(df.columns)\n",
    "display('Total record {} rows'.format(len(df)))\n",
    "display('Total Air Power available {} rows'.format(df['Air Power'].notnull().sum()))\n",
    "display('Total Cadence available {} rows'.format(df['Cadence'].notnull().sum()))\n",
    "display('Total Form Power available {} rows'.format(df['Form Power'].notnull().sum()))\n",
    "display('Total Ground Time available {} rows'.format(df['Ground Time'].notnull().sum()))\n",
    "display('Total Leg Spring Stiffness available {} rows'.format(df['Leg Spring Stiffness'].notnull().sum()))\n",
    "display('Total Power available {} rows'.format(df['Power'].notnull().sum()))\n",
    "display('Total Vertical Oscillation available {} rows'.format(df['Vertical Oscillation'].notnull().sum()))\n",
    "display('Total altitude available {} rows'.format(df['altitude'].notnull().sum()))\n",
    "display('Total cadence available {} rows'.format(df['cadence'].notnull().sum()))\n",
    "display('Total datafile available {} rows'.format(df['datafile'].notnull().sum()))\n",
    "display('Total distance available {} rows'.format(df['distance'].notnull().sum()))\n",
    "display('Total enhanced_altitude available {} rows'.format(df['enhanced_altitude'].notnull().sum()))\n",
    "display('Total enhanced_speed available {} rows'.format(df['enhanced_speed'].notnull().sum()))\n",
    "display('Total fractional_cadence available {} rows'.format(df['fractional_cadence'].notnull().sum()))\n",
    "display('Total heart_rate available {} rows'.format(df['heart_rate'].notnull().sum()))\n",
    "display('Total position_lat available {} rows'.format(df['position_lat'].notnull().sum()))\n",
    "display('Total position_long available {} rows'.format(df['position_long'].notnull().sum()))\n",
    "display('Total speed available {} rows'.format(df['speed'].notnull().sum()))\n",
    "display('Total timestamp available {} rows'.format(df['timestamp'].notnull().sum()))\n",
    "display('Total unknown_87 available {} rows'.format(df['unknown_87'].notnull().sum()))\n",
    "display('Total unknown_88 available {} rows'.format(df['unknown_88'].notnull().sum()))\n",
    "display('Total unknown_90 available {} rows'.format(df['unknown_90'].notnull().sum()))\n"
   ]
  },
  {
   "cell_type": "code",
   "execution_count": 12,
   "id": "c4e1c33d-c885-4ab0-a5cd-d0143c4217fd",
   "metadata": {},
   "outputs": [
    {
     "data": {
      "text/plain": [
       "40639"
      ]
     },
     "execution_count": 12,
     "metadata": {},
     "output_type": "execute_result"
    }
   ],
   "source": [
    "# Convert speed from meter/sec to km/hr\n",
    "df['speed_kmhr'] = df['enhanced_speed'].apply(lambda x: (x * 3600)/1000)\n",
    "\n",
    "# Clean the row with speed is null\n",
    "df = df[df['enhanced_speed'].notnull()]\n",
    "len(df)"
   ]
  },
  {
   "cell_type": "markdown",
   "id": "9655e5da-b1d2-4396-ba0b-58aec9d7205c",
   "metadata": {},
   "source": [
    "## Definition/Interpretation of the data field and units\n",
    "\n",
    "The definition is the response from ChatGPT, and there may be multiple meaning based on the data context.\n",
    "\n",
    "<b>Power:</b> (watts)<br>Power output generates in the exercise\n",
    "\n",
    "<b>Air Power:</b> (watts)<br>\n",
    "(1)The power output a person generates due to air resistence, during activities like running, cycling, rowing.<br>\n",
    "(2)The portion of your total power output used to overcome air resistance. \n",
    "It is most relevant in outdoor or wind-sensitive sports (running, cycling, rowing) and is often tracked by power meters \n",
    "and fitness analytics tools to better understand effort and efficiency.\n",
    "\n",
    "<b>Form Power:</b> (watts)<br>\n",
    "(1) The portion of your total power output that is used to maintain your running form, rather than propelling you forward. \n",
    "It’s primarily tracked in running.<br>\n",
    "(2)The watts of power used for vertical and lateral movement (bouncing, side-to-side motion) that don’t contribute to forward propulsion.\n",
    "It reflects running inefficiencies—power wasted on movements that don’t help you move forward.\n",
    "\n",
    "<b>Cadence:</b> (RPM)<br>The number of steps, strides, or revolutions per minute (RPM) you perform during an activity. It’s a key performance and efficiency metric in both running and cycling.<br> In Running:<br>\n",
    "\t•\tCadence = Steps per minute (spm) (counting both feet)<br>\n",
    "\t•\tFor example: 170 spm means you’re taking 170 steps per minute.\n",
    "<b>Fractional Cadence</b><br>\n",
    "\n",
    "<b>Ground Time:</b> (milliseconds)<br>\n",
    "Ground Contact Time (GCT) is the amount of time your foot spends on the ground during each step while running.<br>\n",
    "Long ground contact time means you’re spending more time on the ground, which usually indicates:<br>\n",
    "\t•\tSlower cadence<br>\n",
    "\t•\tLess springy stride<br>\n",
    "\t•\tPossible overstriding or poor form<br>\n",
    "Shorter GCT means:<br>\n",
    "\t•\tQuicker turnover<br>\n",
    "\t•\tBetter elasticity and energy return<br>\n",
    "\t•\tMore efficient forward motion<br>\n",
    "\n",
    "<b>Leg Spring</b> or Leg Spring Stiffness: (kN/m, kilonewtons per meter)<br>is a measure of how efficiently your legs act like springs during running—absorbing energy when your foot hits the ground and then releasing it to propel you forward, which ustually indicates:<br>\n",
    "\t•\tHow well your leg stores and returns energy like a spring<br>\n",
    "\t•\tCombines data from: Ground contact time (GCT), Vertical oscillation, Body weight<br>\n",
    "Think of it as your leg’s ability to “bounce back” after hitting the ground.<br>\n",
    "\n",
    "<b>Vertical Oscillation:</b> (centimeters)<br>\n",
    "refers to how much your torso or center of mass moves up and down while you run—basically, how much you bounce with each step.<br> High vertical oscillation => energy wasted in upward motion. Vertical Oscillation typically indidates:<br>\n",
    "    • Reduced running economy<br>\n",
    "\t• Greater ground impact<br>\n",
    "\t• Higher injury risk (especially to knees, hips, and feet)\n",
    "\n",
    "<b>Distance/Altitude/Enhanced Altitude:</b> (meters)<br> The interval distance (altitude) between rows.\n",
    "\n",
    "\n",
    "<b>Heart Rate:</b> (beats per min)<br>\n",
    "\n",
    "<b>Speed/enhanced_speed:</b> (meter/sec)<br> \n",
    "Convert to km per hour -> col => 'speed_kmhr'<br>\n",
    "\n",
    "<b>Longitude/Latitude:</b> semicicles (radian)<br>\n",
    "\n"
   ]
  },
  {
   "cell_type": "code",
   "execution_count": null,
   "id": "8d1c3835-d3ca-476a-8d44-8fff0c5fe770",
   "metadata": {},
   "outputs": [],
   "source": []
  },
  {
   "cell_type": "markdown",
   "id": "6e8e442b-be0e-4593-8c3d-dae64e359d42",
   "metadata": {},
   "source": [
    "The 10 principles to design good figures in the response\n",
    "A: You can watch the design principles at  https://journals.plos.org/ploscompbiol/article?id=10.1371/journal.pcbi.1003833 Links to an external site."
   ]
  },
  {
   "cell_type": "markdown",
   "id": "9eccd8f7-7b46-4d64-95ce-987715b3cd36",
   "metadata": {},
   "source": [
    "## Assumption\n",
    "In this assigment, the data include activies of running and cycling.<br>\n",
    "* The approach to segregate the activities is to determine if the max speed is greater than or equal to a threshold, configuable as 15 Km/Hr, then we assume the session is cycling. In case the max speed among the session is less than the threahold, the activity is running.<br>\n",
    "* Use 'enhanced_speed' over speed since the field has values for most of the records."
   ]
  },
  {
   "cell_type": "code",
   "execution_count": 7,
   "id": "7835a332-2040-401a-9834-1191183eae75",
   "metadata": {},
   "outputs": [],
   "source": [
    "\"\"\"\n",
    "    To segregate the data rows per session between Running and Cycling activities.\n",
    "    \n",
    "    Algorithm:\n",
    "    - look for the row with speed = 0 as a starting point, as a person start from not moving.\n",
    "    - save the first row with speed not 0 until seeing the row with speed = 0, save as a temp dataframe\n",
    "    - Determine the temp session if the max speed is greather or equal the threashold:\n",
    "        - if it is, save the dataframe as 'cycling' \n",
    "        - else save the dataframe as 'running'\n",
    "    - At the end, if the tmp is still has data, not seeing a row with speed = 0, determine the session and save.\n",
    "\"\"\"\n",
    "\n",
    "# save_record = False\n",
    "counter = 0\n",
    "total_row = len(df)\n",
    "\n",
    "# Empty dataframe with the same original schema\n",
    "run_df = pd.DataFrame(columns=df.columns).astype(df.dtypes)\n",
    "bike_df = pd.DataFrame(columns=df.columns).astype(df.dtypes)\n",
    "tmp_df = pd.DataFrame(columns=df.columns).astype(df.dtypes) # tmp DF for a single session\n",
    "\n",
    "run_bike_threshold = 15 # Running has max speed less than or equal to 15 km/hr among the entire session\n",
    "\n",
    "\n",
    "for i in range(total_row): \n",
    "    rw = df.iloc[i]\n",
    "    speed = rw['speed_kmhr']\n",
    "\n",
    "    if(speed == 0.0):\n",
    "        if (len(tmp_df) > 0):\n",
    "            if (tmp_df['enhanced_speed'].max() < run_bike_threshold):\n",
    "                run_df = pd.concat([run_df,tmp_df])\n",
    "            else:     \n",
    "                bike_df = pd.concat([bike_df,tmp_df])\n",
    "            tmp_df = pd.DataFrame(columns=df.columns).astype(df.dtypes)  # clear\n",
    "    else:\n",
    "        tmp_df.loc[len(tmp_df)] = rw\n",
    "\n",
    "# add the remaining tmp_df\n",
    "if (len(tmp_df) > 0):\n",
    "    if (tmp_df['enhanced_speed'].max() < run_bike_threshold):\n",
    "        run_df = pd.concat([run_df,tmp_df])\n",
    "    else:     \n",
    "        bike_df = pd.concat([bike_df,tmp_df])"
   ]
  },
  {
   "cell_type": "code",
   "execution_count": 14,
   "id": "ca5a844d-c986-429c-a961-e4a881a31af4",
   "metadata": {},
   "outputs": [],
   "source": [
    "# Save run and bike activities to file for plotting later.\n",
    "\n",
    "run_df_save = run_df[run_df['enhanced_speed'].notna()]\n",
    "run_df_save.to_csv('run.csv', index=False)\n",
    "\n",
    "bike_df_save = bike_df[bike_df['enhanced_speed'].notna()]\n",
    "bike_df_save = bike_df_save[['timestamp','cadence','distance','enhanced_altitude','heart_rate','speed_kmhr','position_lat','position_long']]\n",
    "bike_df_save.to_csv('bike.csv', index=False)"
   ]
  },
  {
   "cell_type": "code",
   "execution_count": 8,
   "id": "a7549bad-4f88-4ed3-83aa-6de4864d0b86",
   "metadata": {},
   "outputs": [
    {
     "name": "stdout",
     "output_type": "stream",
     "text": [
      "39924\n"
     ]
    }
   ],
   "source": [
    "# Read the data back for validation\n",
    "\n",
    "run = pd.read_csv(\"run.csv\")\n",
    "bike = pd.read_csv(\"bike.csv\")\n",
    "print(len(run) + len(bike))"
   ]
  },
  {
   "cell_type": "code",
   "execution_count": null,
   "id": "f49c7f57-d3b3-463d-9e75-4f75fe1d009e",
   "metadata": {},
   "outputs": [],
   "source": []
  },
  {
   "cell_type": "code",
   "execution_count": null,
   "id": "b3d644d0-6c06-4b6f-8ba4-1d0b717c6c4f",
   "metadata": {},
   "outputs": [],
   "source": []
  }
 ],
 "metadata": {
  "kernelspec": {
   "display_name": "Python [conda env:base]",
   "language": "python",
   "name": "conda-base-py"
  },
  "language_info": {
   "codemirror_mode": {
    "name": "ipython",
    "version": 3
   },
   "file_extension": ".py",
   "mimetype": "text/x-python",
   "name": "python",
   "nbconvert_exporter": "python",
   "pygments_lexer": "ipython3",
   "version": "3.13.5"
  }
 },
 "nbformat": 4,
 "nbformat_minor": 5
}
